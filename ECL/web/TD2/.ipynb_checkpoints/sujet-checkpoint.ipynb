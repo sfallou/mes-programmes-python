{
 "cells": [
  {
   "cell_type": "markdown",
   "metadata": {},
   "source": [
    "#    <center>Informatique tc3 (Projet Web) - TD2</center>"
   ]
  },
  {
   "cell_type": "markdown",
   "metadata": {},
   "source": [
    "## <center style=\"color: #66d\">Mise en place d'un serveur Web en Python</center>"
   ]
  },
  {
   "cell_type": "markdown",
   "metadata": {},
   "source": [
    "### 1. Préambule"
   ]
  },
  {
   "cell_type": "markdown",
   "metadata": {},
   "source": [
    "#### a) Modalités pratiques"
   ]
  },
  {
   "cell_type": "markdown",
   "metadata": {},
   "source": [
    "Un serveur est un processus qui tourne indéfiniment en l'attente de requêtes HTTP auxquelles répondre. Pour cette raison, il n'est pas pratique de développer des programmes serveurs dans une cellule de notebook.\n",
    "En effet, les cellules sont exécutées une à une par un même processus <i>(le kernel IPython)</i>. Si donc on démarre dans une cellule un serveur qui boucle indéfiniment, les cellules suivantes ne seront jamais exécutées...\n",
    "<p style=\"color:#C00\">\n",
    "Pour cette raison, les développements à mener pour ce TD feront l'objet de fichiers individuels, nommés d'après la question <i>(cf. par exemple Q2-1.py pour le fichier de la question 2.1)</i> et démarrés manuellement via IDLE ou Spyder par exemple."
   ]
  },
  {
   "cell_type": "markdown",
   "metadata": {},
   "source": [
    "#### b) Travail à réaliser"
   ]
  },
  {
   "cell_type": "markdown",
   "metadata": {},
   "source": [
    "Il est plus que probable qu'il ne vous soit pas possible de finir ce TD en 2h. Toutefois, vous aurez par la suite à développer un serveur en mode projet (travail de groupe) qui pourra réutiliser les produits de ce TD (cf. question 5.4 <tt>server/generic.py</tt> et question 7. <tt>server/rest.py</tt>).\n",
    "Il est donc fortement recommandé d'aller le plus loin possible dans le travail proposé, __mais pas au détriment du TD suivant__."
   ]
  },
  {
   "cell_type": "markdown",
   "metadata": {},
   "source": [
    "### 2. Mise en place d'un serveur Web élémentaire (pages statiques)"
   ]
  },
  {
   "cell_type": "markdown",
   "metadata": {},
   "source": [
    "<div style=\"background-color:#fee;padding:10px;border-radius:3px\">\n",
    "<b>N.B.</b> Dans toute la suite il sera supposé que les serveurs que vous développerez utilisent le port <tt>8080</tt>.\n",
    "Le texte des questions et l'ensemble des liens de ce document permettant de tester vos serveurs font donc systématiquement appel à ce numéro de port. Si pour une raison ou pour une autre le port <tt>8080</tt> ne convient pas sur votre machine, il sera pertinent de corriger le texte et les liens du présent document au fur et à mesure de l'avancement de ce TD."
   ]
  },
  {
   "cell_type": "markdown",
   "metadata": {},
   "source": [
    "#### a) Mon premier serveur"
   ]
  },
  {
   "cell_type": "markdown",
   "metadata": {},
   "source": [
    "<div style=\"background-color:#eef;padding:10px;border-radius:3px\">\n",
    "<b>2.1 -</b>\n",
    "En vous référant à la <a href=\"https://docs.python.org/3/library/http.server.html#http.server.SimpleHTTPRequestHandler.do_GET\">doc python</a>, développez un premier serveur très simple nommé <tt>Q2-1.py</tt>, qui attend des requêtes GET sur le port 8080 et permet de délivrer les documents du répertoire courant."
   ]
  },
  {
   "cell_type": "code",
   "execution_count": 1,
   "metadata": {
    "collapsed": false
   },
   "outputs": [],
   "source": [
    "%pycat Q2-1.py"
   ]
  },
  {
   "cell_type": "markdown",
   "metadata": {},
   "source": [
    "<div style=\"background-color:#eef;padding:10px;border-radius:3px\">\n",
    "<b>2.2 -</b>\n",
    "Une fois votre serveur opérationnel, testez-le en exécutant la prochaine cellule. Vous devez obtenir le résultat suivant :\n",
    "<br>\n",
    "<img src=\"Q2-2.png\">"
   ]
  },
  {
   "cell_type": "code",
   "execution_count": 2,
   "metadata": {
    "collapsed": false
   },
   "outputs": [
    {
     "data": {
      "text/html": [
       "\n",
       "        <iframe\n",
       "            width=\"1080\"\n",
       "            height=120\"\n",
       "            src=\"http://localhost:8080/welcome.html\"\n",
       "            frameborder=\"0\"\n",
       "            allowfullscreen\n",
       "        ></iframe>\n",
       "        "
      ],
      "text/plain": [
       "<IPython.lib.display.IFrame at 0x48e04e0>"
      ]
     },
     "execution_count": 1,
     "metadata": {},
     "output_type": "execute_result"
    }
   ],
   "source": [
    "from IPython.display import IFrame\n",
    "\n",
    "page = 'http://localhost:8080/welcome.html'\n",
    "\n",
    "# crée un iframe qui effectue une requête vers le serveur\n",
    "# que vous êtes censés avoir démarré\n",
    "IFrame(page,1080,120)"
   ]
  },
  {
   "cell_type": "markdown",
   "metadata": {},
   "source": [
    "<div style=\"background-color:#eef;padding:10px;border-radius:3px\">\n",
    "<b>2.3 -</b>\n",
    "Essayez maintenant d'accéder aux adresses ci-dessous, observez les messages de log dans la fenêtre de l'interpréteur python, et commentez les résultats obtenus (page affichée par le navigateur et message de log) :\n",
    " - http://localhost:8080/welcome.html\n",
    " - http://localhost:8080/tagada.html\n",
    " - http://localhost:8080/\n",
    " <br>\n",
    " <img src=\"Q2-3.png\">"
   ]
  },
  {
   "cell_type": "markdown",
   "metadata": {},
   "source": [
    "### 3. Personnalisation du serveur de base"
   ]
  },
  {
   "cell_type": "markdown",
   "metadata": {},
   "source": [
    "#### a) Modification du répertoire racine"
   ]
  },
  {
   "cell_type": "markdown",
   "metadata": {},
   "source": [
    "Le serveur précédent n'est absolument pas sécurisé : une fois démarré sur votre poste il donne accès au contenu du répertoire courant (qui contient notamment les codes source) à n'importe qui connaissant son existence et son numéro de port.\n",
    "On désire donc développer un serveur qui au moins ne délivre plus que les documents d'un sous-répertoire nommé <tt>client</tt> par exemple. \n",
    "<p>\n",
    "Pour traiter les requêtes entrantes, votre serveur instancie des objets de la classe <tt>http.server.SimpleHTTPRequestHandler</tt>. C'est cette classe qui procure le traitement observé, qui consiste à envoyer au client le fichier correspondant à une requête de type GET, un \"listing\" avec des liens lorsqu'il s'agit d'un répertoire, ou un message d'erreur lorsque le fichier n'existe pas.\n",
    "<p>\n",
    "Pour obtenir un comportement plus fin, il est nécesaire de créer une sous-classe de <tt>http.server.SimpleHTTPRequestHandler</tt> pour implémenter le comportement souhaité. Consultez la\n",
    "<a href=\"https://docs.python.org/3/library/http.server.html\">doc python</a> pour une description exhaustive des\n",
    "variables de classe et d'instance et des méthodes héritées par une telle sous-classe."
   ]
  },
  {
   "cell_type": "markdown",
   "metadata": {},
   "source": [
    "<div style=\"background-color:#eef;padding:10px;border-radius:3px\">\n",
    "<b>3.1 -</b>\n",
    "Développez une sous-classe de <tt>http.server.SimpleHTTPRequestHandler</tt> qui délivre uniquement les documents d'un sous-répertoire nommé <tt>client</tt>. Une requête vers l'adresse <tt><span>http:</span>//<span>localhost:</span>8080/welcome.html</tt> devra renvoyer le document <tt>client/welcome.html</tt>.\n",
    "<p>\n",
    "Ecrivez et testez un serveur nommé <tt>Q3-1.py</tt> qui utilise cette sous-classe et exhibe le comportement attendu :\n",
    "<br>\n",
    "<img src=\"Q3-1.png\">"
   ]
  },
  {
   "cell_type": "code",
   "execution_count": 3,
   "metadata": {
    "collapsed": false
   },
   "outputs": [],
   "source": [
    "%pycat Q3-1.py"
   ]
  },
  {
   "cell_type": "code",
   "execution_count": 4,
   "metadata": {
    "collapsed": false
   },
   "outputs": [
    {
     "data": {
      "text/html": [
       "\n",
       "        <iframe\n",
       "            width=\"1080\"\n",
       "            height=120\"\n",
       "            src=\"http://localhost:8080/welcome.html\"\n",
       "            frameborder=\"0\"\n",
       "            allowfullscreen\n",
       "        ></iframe>\n",
       "        "
      ],
      "text/plain": [
       "<IPython.lib.display.IFrame at 0x49014a8>"
      ]
     },
     "execution_count": 3,
     "metadata": {},
     "output_type": "execute_result"
    }
   ],
   "source": [
    "# pour tester Q3-1.py\n",
    "IFrame('http://localhost:8080/welcome.html',1080,120)"
   ]
  },
  {
   "cell_type": "markdown",
   "metadata": {},
   "source": [
    "<div style=\"background-color:#eef;padding:10px;border-radius:3px\">\n",
    "<b>3.2 -</b>\n",
    "Testez les liens ci-dessous et commentez les résultats obtenus :\n",
    " - http://localhost:8080/welcome.html\n",
    " - http://localhost:8080/tagada.html\n",
    " - http://localhost:8080/"
   ]
  },
  {
   "cell_type": "markdown",
   "metadata": {},
   "source": [
    "#### b) Prise en compte des requêtes HEAD"
   ]
  },
  {
   "cell_type": "markdown",
   "metadata": {},
   "source": [
    "<div style=\"background-color:#eef;padding:10px;border-radius:3px\">\n",
    "<b>3.3 -</b> <tt>http.server.SimpleHTTPRequestHandler</tt> répond également à des requêtes effectuées avec la méthode <tt>HEAD</tt>. Testez-le à l'aide de \n",
    "<a href=\"http://localhost:8080/service_tester.html\">l'outil suivant</a>. En particulier, essayez successivement d'accéder au document <tt>welcome.html</tt> avec les methodes <tt>GET</tt> et <tt>HEAD</tt> en forçant le contournement du cache du navigateur, et observez les différences entre les deux réponses (<tt>Content-Length</tt> et <tt>Last-Modified</tt>)."
   ]
  },
  {
   "cell_type": "markdown",
   "metadata": {},
   "source": [
    "<div style=\"background-color:#eef;padding:10px;border-radius:3px\">\n",
    "<b>3.4 -</b>\n",
    "Réglez le problème en écrivant un serveur <tt>Q3-4.py</tt> qui fonctionne correctement à cet égard.\n",
    "<br>\n",
    "<img src=\"Q3-4.png\">"
   ]
  },
  {
   "cell_type": "code",
   "execution_count": 5,
   "metadata": {
    "collapsed": false
   },
   "outputs": [],
   "source": [
    "%pycat Q3-4.py"
   ]
  },
  {
   "cell_type": "markdown",
   "metadata": {},
   "source": [
    "#### c) Personnalisation de la signature du serveur"
   ]
  },
  {
   "cell_type": "markdown",
   "metadata": {},
   "source": [
    "<div style=\"background-color:#eef;padding:10px;border-radius:3px\">\n",
    "<b>3.5 -</b>\n",
    "A ce propos, il est vexant d'avoir écrit un serveur personnalisé, et de voir celui-ci se faire passer pour le serveur python de base (cf. ligne <tt>Server: SimpleHTTP/0.6 Python/3.4.2</tt> dans la réponse). Toujours en vous aidant de la <a href=\"https://docs.python.org/3/library/http.server.html\">doc python</a>, remédiez à ce fait en écrivant un serveur nommé <tt>Q3-5.py</tt> qui s'identifie correctement.\n",
    "<br>\n",
    "<img src=\"Q3-5.png\">"
   ]
  },
  {
   "cell_type": "code",
   "execution_count": 6,
   "metadata": {
    "collapsed": false
   },
   "outputs": [],
   "source": [
    "%pycat Q3-5.py"
   ]
  },
  {
   "cell_type": "markdown",
   "metadata": {},
   "source": [
    "#### d) Rôle des fichiers index.html"
   ]
  },
  {
   "cell_type": "markdown",
   "metadata": {},
   "source": [
    "Le serveur dont vous disposez à présent est capable de délivrer toutes les ressources disponibles dans la sous-arborescence du répertoire <tt>client</tt>. Ces ressources peuvent correspondre à des fichiers texte (<tt>HTML</tt> ou pas), des images (<tt>gif</tt>, <tt>jpg</tt>, <tt>png</tt>), ou posséder d'autres formats reconnus par un navigateur (vidéos, <tt>pdf</tt>, <tt>svg</tt>,&nbsp;...)."
   ]
  },
  {
   "cell_type": "markdown",
   "metadata": {},
   "source": [
    "<div style=\"background-color:#eef;padding:10px;border-radius:3px\">\n",
    "<b>3.6 -</b>\n",
    "Testez ce point pour vous en convaincre, avec les documents existants dans l'arborescence, et en rajoutant un répertoire <tt>client/perso</tt> dans lequel vous pourrez placer divers fichiers. Essayez d'ajouter un fichier nommé <tt>index.html</tt> et commentez l'effet obtenu en accédant à l'adresse http://localhost:8080/perso/"
   ]
  },
  {
   "cell_type": "markdown",
   "metadata": {},
   "source": [
    "### 4. Réponses à contenu dynamique (forgé à la volée)"
   ]
  },
  {
   "cell_type": "markdown",
   "metadata": {},
   "source": [
    "#### a) Routage et réponse dynamique"
   ]
  },
  {
   "cell_type": "markdown",
   "metadata": {},
   "source": [
    "Pour envoyer un document généré à la volée, il faut penser à :\n",
    "- envoyer la ligne de statut HTTP,\n",
    "- envoyer les lignes d'entête,\n",
    "- envoyer la chaîne de caractères qui constitue le corps de la réponse, en l'ayant préalablement encodée."
   ]
  },
  {
   "cell_type": "raw",
   "metadata": {},
   "source": [
    "  def send(self,body,headers=[]):\n",
    "\n",
    "    # on encode la chaine de caractères à envoyer\n",
    "    encoded = bytes(body, 'UTF-8')\n",
    "\n",
    "    # on envoie la ligne de statut\n",
    "    self.send_response(200)\n",
    "\n",
    "    # on envoie les lignes d'entête et la ligne vide\n",
    "    [self.send_header(*t) for t in headers]\n",
    "    self.send_header('Content-Length',int(len(encoded)))\n",
    "    self.end_headers()\n",
    "\n",
    "    # on envoie le corps de la réponse\n",
    "    self.wfile.write(encoded)\n"
   ]
  },
  {
   "cell_type": "markdown",
   "metadata": {},
   "source": [
    "<div style=\"background-color:#eef;padding:10px;border-radius:3px\">\n",
    "<b>4.1 -</b>\n",
    "Sur la base du précédent, développez un serveur nommé Q4-1.py qui renvoie un document avec la date et l'heure de votre machine lorsqu'il reçoit une requête <tt>GET</tt> avec le chemin d'accès <tt>/time</tt>, et testez-le via le <a href=\"http://localhost:8080/service_tester.html\">testeur de service</a> ou directement à l'adresse http://localhost:8080/time\n",
    "<br>\n",
    "<img src=\"Q4-1.png\">"
   ]
  },
  {
   "cell_type": "code",
   "execution_count": 7,
   "metadata": {
    "collapsed": false
   },
   "outputs": [],
   "source": [
    "%pycat Q4-1.py"
   ]
  },
  {
   "cell_type": "markdown",
   "metadata": {},
   "source": [
    "<b>N.B.</b> Le fait de renvoyer une réponse dynamique pour les chemins d'accès qui commencent par <tt>/time</tt> et éventuellement un document statique (s'il existe) dans le cas contraire, impose de tester l'adresse employée par le client, et d'aiguiller le comportement du serveur en fonction de sa forme. On appelle ce processus d'aiguillage <b>le routage</b> (encore très simple dans le cas présent)."
   ]
  },
  {
   "cell_type": "markdown",
   "metadata": {},
   "source": [
    "#### b) Passage de paramètres via le chemin d'accès"
   ]
  },
  {
   "cell_type": "markdown",
   "metadata": {},
   "source": [
    "Le format par défaut de l'heure, s'il est lisible, n'est pas forcément parlant car présenté au format anglo-saxon, et faisant référence à l'heure GMT. Cf. http://pytz.sourceforge.net/ voici une fonction pour obtenir la date dans une zone différente :"
   ]
  },
  {
   "cell_type": "code",
   "execution_count": 8,
   "metadata": {
    "collapsed": false
   },
   "outputs": [
    {
     "name": "stdout",
     "output_type": "stream",
     "text": [
      "2015-10-19 22:26:36.892340+09:00\n"
     ]
    }
   ],
   "source": [
    "from datetime import datetime\n",
    "from pytz import timezone\n",
    "import pytz\n",
    "\n",
    "def get_date(tz_name):\n",
    "    time = datetime.utcnow()\n",
    "    tz = timezone(tz_name)\n",
    "    return tz.normalize(pytz.utc.localize(time).astimezone(tz))\n",
    "    \n",
    "print(get_date('Asia/Tokyo'))"
   ]
  },
  {
   "cell_type": "markdown",
   "metadata": {},
   "source": [
    "On peut obtenir le nom des fuseaux horaires concernés à partir d'un code pays : \n"
   ]
  },
  {
   "cell_type": "code",
   "execution_count": 9,
   "metadata": {
    "collapsed": false
   },
   "outputs": [
    {
     "name": "stdout",
     "output_type": "stream",
     "text": [
      "Europe/Berlin, Europe/Busingen\n"
     ]
    }
   ],
   "source": [
    "print(', '.join(pytz.country_timezones['de']))"
   ]
  },
  {
   "cell_type": "markdown",
   "metadata": {},
   "source": [
    "Et voici une liste quasi-exhaustive de fuseaux horaires (n'oubliez pas que vous pouvez replier la liste en cliquant dans la marge gauche) :"
   ]
  },
  {
   "cell_type": "code",
   "execution_count": 10,
   "metadata": {
    "collapsed": false
   },
   "outputs": [
    {
     "name": "stdout",
     "output_type": "stream",
     "text": [
      "Africa/Abidjan, Africa/Accra, Africa/Addis_Ababa, Africa/Algiers, Africa/Asmara, Africa/Bamako, Africa/Bangui, Africa/Banjul, Africa/Bissau, Africa/Blantyre, Africa/Brazzaville, Africa/Bujumbura, Africa/Cairo, Africa/Casablanca, Africa/Ceuta, Africa/Conakry, Africa/Dakar, Africa/Dar_es_Salaam, Africa/Djibouti, Africa/Douala, Africa/El_Aaiun, Africa/Freetown, Africa/Gaborone, Africa/Harare, Africa/Johannesburg, Africa/Juba, Africa/Kampala, Africa/Khartoum, Africa/Kigali, Africa/Kinshasa, Africa/Lagos, Africa/Libreville, Africa/Lome, Africa/Luanda, Africa/Lubumbashi, Africa/Lusaka, Africa/Malabo, Africa/Maputo, Africa/Maseru, Africa/Mbabane, Africa/Mogadishu, Africa/Monrovia, Africa/Nairobi, Africa/Ndjamena, Africa/Niamey, Africa/Nouakchott, Africa/Ouagadougou, Africa/Porto-Novo, Africa/Sao_Tome, Africa/Tripoli, Africa/Tunis, Africa/Windhoek, America/Adak, America/Anchorage, America/Anguilla, America/Antigua, America/Araguaina, America/Argentina/Buenos_Aires, America/Argentina/Catamarca, America/Argentina/Cordoba, America/Argentina/Jujuy, America/Argentina/La_Rioja, America/Argentina/Mendoza, America/Argentina/Rio_Gallegos, America/Argentina/Salta, America/Argentina/San_Juan, America/Argentina/San_Luis, America/Argentina/Tucuman, America/Argentina/Ushuaia, America/Aruba, America/Asuncion, America/Atikokan, America/Bahia, America/Bahia_Banderas, America/Barbados, America/Belem, America/Belize, America/Blanc-Sablon, America/Boa_Vista, America/Bogota, America/Boise, America/Cambridge_Bay, America/Campo_Grande, America/Cancun, America/Caracas, America/Cayenne, America/Cayman, America/Chicago, America/Chihuahua, America/Costa_Rica, America/Creston, America/Cuiaba, America/Curacao, America/Danmarkshavn, America/Dawson, America/Dawson_Creek, America/Denver, America/Detroit, America/Dominica, America/Edmonton, America/Eirunepe, America/El_Salvador, America/Fortaleza, America/Glace_Bay, America/Godthab, America/Goose_Bay, America/Grand_Turk, America/Grenada, America/Guadeloupe, America/Guatemala, America/Guayaquil, America/Guyana, America/Halifax, America/Havana, America/Hermosillo, America/Indiana/Indianapolis, America/Indiana/Knox, America/Indiana/Marengo, America/Indiana/Petersburg, America/Indiana/Tell_City, America/Indiana/Vevay, America/Indiana/Vincennes, America/Indiana/Winamac, America/Inuvik, America/Iqaluit, America/Jamaica, America/Juneau, America/Kentucky/Louisville, America/Kentucky/Monticello, America/Kralendijk, America/La_Paz, America/Lima, America/Los_Angeles, America/Lower_Princes, America/Maceio, America/Managua, America/Manaus, America/Marigot, America/Martinique, America/Matamoros, America/Mazatlan, America/Menominee, America/Merida, America/Metlakatla, America/Mexico_City, America/Miquelon, America/Moncton, America/Monterrey, America/Montevideo, America/Montreal, America/Montserrat, America/Nassau, America/New_York, America/Nipigon, America/Nome, America/Noronha, America/North_Dakota/Beulah, America/North_Dakota/Center, America/North_Dakota/New_Salem, America/Ojinaga, America/Panama, America/Pangnirtung, America/Paramaribo, America/Phoenix, America/Port-au-Prince, America/Port_of_Spain, America/Porto_Velho, America/Puerto_Rico, America/Rainy_River, America/Rankin_Inlet, America/Recife, America/Regina, America/Resolute, America/Rio_Branco, America/Santa_Isabel, America/Santarem, America/Santiago, America/Santo_Domingo, America/Sao_Paulo, America/Scoresbysund, America/Sitka, America/St_Barthelemy, America/St_Johns, America/St_Kitts, America/St_Lucia, America/St_Thomas, America/St_Vincent, America/Swift_Current, America/Tegucigalpa, America/Thule, America/Thunder_Bay, America/Tijuana, America/Toronto, America/Tortola, America/Vancouver, America/Whitehorse, America/Winnipeg, America/Yakutat, America/Yellowknife, Antarctica/Casey, Antarctica/Davis, Antarctica/DumontDUrville, Antarctica/Macquarie, Antarctica/Mawson, Antarctica/McMurdo, Antarctica/Palmer, Antarctica/Rothera, Antarctica/Syowa, Antarctica/Troll, Antarctica/Vostok, Arctic/Longyearbyen, Asia/Aden, Asia/Almaty, Asia/Amman, Asia/Anadyr, Asia/Aqtau, Asia/Aqtobe, Asia/Ashgabat, Asia/Baghdad, Asia/Bahrain, Asia/Baku, Asia/Bangkok, Asia/Beirut, Asia/Bishkek, Asia/Brunei, Asia/Chita, Asia/Choibalsan, Asia/Colombo, Asia/Damascus, Asia/Dhaka, Asia/Dili, Asia/Dubai, Asia/Dushanbe, Asia/Gaza, Asia/Hebron, Asia/Ho_Chi_Minh, Asia/Hong_Kong, Asia/Hovd, Asia/Irkutsk, Asia/Jakarta, Asia/Jayapura, Asia/Jerusalem, Asia/Kabul, Asia/Kamchatka, Asia/Karachi, Asia/Kathmandu, Asia/Khandyga, Asia/Kolkata, Asia/Krasnoyarsk, Asia/Kuala_Lumpur, Asia/Kuching, Asia/Kuwait, Asia/Macau, Asia/Magadan, Asia/Makassar, Asia/Manila, Asia/Muscat, Asia/Nicosia, Asia/Novokuznetsk, Asia/Novosibirsk, Asia/Omsk, Asia/Oral, Asia/Phnom_Penh, Asia/Pontianak, Asia/Pyongyang, Asia/Qatar, Asia/Qyzylorda, Asia/Rangoon, Asia/Riyadh, Asia/Sakhalin, Asia/Samarkand, Asia/Seoul, Asia/Shanghai, Asia/Singapore, Asia/Srednekolymsk, Asia/Taipei, Asia/Tashkent, Asia/Tbilisi, Asia/Tehran, Asia/Thimphu, Asia/Tokyo, Asia/Ulaanbaatar, Asia/Urumqi, Asia/Ust-Nera, Asia/Vientiane, Asia/Vladivostok, Asia/Yakutsk, Asia/Yekaterinburg, Asia/Yerevan, Atlantic/Azores, Atlantic/Bermuda, Atlantic/Canary, Atlantic/Cape_Verde, Atlantic/Faroe, Atlantic/Madeira, Atlantic/Reykjavik, Atlantic/South_Georgia, Atlantic/St_Helena, Atlantic/Stanley, Australia/Adelaide, Australia/Brisbane, Australia/Broken_Hill, Australia/Currie, Australia/Darwin, Australia/Eucla, Australia/Hobart, Australia/Lindeman, Australia/Lord_Howe, Australia/Melbourne, Australia/Perth, Australia/Sydney, Canada/Atlantic, Canada/Central, Canada/Eastern, Canada/Mountain, Canada/Newfoundland, Canada/Pacific, Europe/Amsterdam, Europe/Andorra, Europe/Athens, Europe/Belgrade, Europe/Berlin, Europe/Bratislava, Europe/Brussels, Europe/Bucharest, Europe/Budapest, Europe/Busingen, Europe/Chisinau, Europe/Copenhagen, Europe/Dublin, Europe/Gibraltar, Europe/Guernsey, Europe/Helsinki, Europe/Isle_of_Man, Europe/Istanbul, Europe/Jersey, Europe/Kaliningrad, Europe/Kiev, Europe/Lisbon, Europe/Ljubljana, Europe/London, Europe/Luxembourg, Europe/Madrid, Europe/Malta, Europe/Mariehamn, Europe/Minsk, Europe/Monaco, Europe/Moscow, Europe/Oslo, Europe/Paris, Europe/Podgorica, Europe/Prague, Europe/Riga, Europe/Rome, Europe/Samara, Europe/San_Marino, Europe/Sarajevo, Europe/Simferopol, Europe/Skopje, Europe/Sofia, Europe/Stockholm, Europe/Tallinn, Europe/Tirane, Europe/Uzhgorod, Europe/Vaduz, Europe/Vatican, Europe/Vienna, Europe/Vilnius, Europe/Volgograd, Europe/Warsaw, Europe/Zagreb, Europe/Zaporozhye, Europe/Zurich, GMT, Indian/Antananarivo, Indian/Chagos, Indian/Christmas, Indian/Cocos, Indian/Comoro, Indian/Kerguelen, Indian/Mahe, Indian/Maldives, Indian/Mauritius, Indian/Mayotte, Indian/Reunion, Pacific/Apia, Pacific/Auckland, Pacific/Bougainville, Pacific/Chatham, Pacific/Chuuk, Pacific/Easter, Pacific/Efate, Pacific/Enderbury, Pacific/Fakaofo, Pacific/Fiji, Pacific/Funafuti, Pacific/Galapagos, Pacific/Gambier, Pacific/Guadalcanal, Pacific/Guam, Pacific/Honolulu, Pacific/Johnston, Pacific/Kiritimati, Pacific/Kosrae, Pacific/Kwajalein, Pacific/Majuro, Pacific/Marquesas, Pacific/Midway, Pacific/Nauru, Pacific/Niue, Pacific/Norfolk, Pacific/Noumea, Pacific/Pago_Pago, Pacific/Palau, Pacific/Pitcairn, Pacific/Pohnpei, Pacific/Port_Moresby, Pacific/Rarotonga, Pacific/Saipan, Pacific/Tahiti, Pacific/Tarawa, Pacific/Tongatapu, Pacific/Wake, Pacific/Wallis, US/Alaska, US/Arizona, US/Central, US/Eastern, US/Hawaii, US/Mountain, US/Pacific, UTC\n"
     ]
    }
   ],
   "source": [
    "print(', '.join(pytz.common_timezones))"
   ]
  },
  {
   "cell_type": "markdown",
   "metadata": {},
   "source": [
    "<div style=\"background-color:#eef;padding:10px;border-radius:3px\">\n",
    "<b>4.2 -</b>\n",
    "Toujours en vous appuyant sur le serveur précédent le plus élaboré, développez <tt>Q4-2.py</tt> qui renvoie l'heure courante exprimée dans un fuseau horaire dont on lui passe le nom en paramètre, via l'adresse après le préfixe <tt>/time</tt>.\n",
    "\n",
    "Voici le type de réponse attendue pour une requête à l'adresse http://localhost:8080/time/Asia/Tokyo (notez le changement de date):\n",
    "<br>\n",
    "<img src=\"Q4-2.png\">\n"
   ]
  },
  {
   "cell_type": "code",
   "execution_count": 11,
   "metadata": {
    "collapsed": false
   },
   "outputs": [],
   "source": [
    "%pycat Q4-2.py"
   ]
  },
  {
   "cell_type": "markdown",
   "metadata": {},
   "source": [
    "La fonction <a href=\"https://docs.python.org/3.4/library/datetime.html#strftime-and-strptime-behavior\">strftime</a>\n",
    "permet de formatter la date et l'heure pour qu'elles soient plus faciles à lire pour des humains normalement constitués :"
   ]
  },
  {
   "cell_type": "code",
   "execution_count": 12,
   "metadata": {
    "collapsed": false
   },
   "outputs": [
    {
     "name": "stdout",
     "output_type": "stream",
     "text": [
      "jeudi 24 septembre 2015, 18:29:51\n"
     ]
    }
   ],
   "source": [
    "# on adhère aux conventions françaises\n",
    "import locale\n",
    "locale.setlocale(locale.LC_ALL, 'french')\n",
    "\n",
    "print(datetime.now().strftime('%A %d %B %Y, %H:%M:%S'))"
   ]
  },
  {
   "cell_type": "markdown",
   "metadata": {},
   "source": [
    "<div style=\"background-color:#eef;padding:10px;border-radius:3px\">\n",
    "<b>4.3 -</b>\n",
    "Utilisez cette fonction pour développer le serveur <tt>Q4-3.py</tt> qui affiche l'heure de manière plus agréable que les précédents, comme par exemple :\n",
    "<br>\n",
    "<img src=\"Q4-3.png\">"
   ]
  },
  {
   "cell_type": "code",
   "execution_count": 13,
   "metadata": {
    "collapsed": false
   },
   "outputs": [],
   "source": [
    "%pycat Q4-3.py"
   ]
  },
  {
   "cell_type": "markdown",
   "metadata": {},
   "source": [
    "#### c) Traitement des erreurs"
   ]
  },
  {
   "cell_type": "markdown",
   "metadata": {},
   "source": [
    "<div style=\"background-color:#eef;padding:10px;border-radius:3px\">\n",
    "<b>4.4 -</b>\n",
    "Que se passe-t-il si l'on appelle <tt>Q4-3.py</tt> sans \"paramètre\" ou avec des informations qui ne correspondent pas au nom d'un fuseau horaire ?\n",
    "\n",
    "Remédiez à cela avec <tt>Q4-4.py</tt> en renvoyant un code d'erreur 404 avec le message <tt>\"Unknown Time Zone\"</tt>.\n",
    "<br>\n",
    "<img src=\"Q4-4.png\">"
   ]
  },
  {
   "cell_type": "code",
   "execution_count": 14,
   "metadata": {
    "collapsed": false
   },
   "outputs": [],
   "source": [
    "%pycat Q4-4.py"
   ]
  },
  {
   "cell_type": "markdown",
   "metadata": {},
   "source": [
    "#### d) Passage de paramètres via la chaîne de requête"
   ]
  },
  {
   "cell_type": "markdown",
   "metadata": {},
   "source": [
    "Si vous avez testé vos serveurs précédents avec le testeur de service, il est probable que vous ayez déjà tenu compte de la chaîne de requête (query string). Il s'agit de l'information qui se trouve à la fin de l'adresse derrière le point d'interrogation.\n",
    "\n",
    "Par exemple, pour forcer le navigateur à ne pas utiliser la réponse précédemment stockée dans son cache, si on coche la case \"Contourner le cache\" le testeur de service génère automatiquement une adresse différente à chaque requête, de la forme :\n",
    "\n",
    "<code>http://localhost:8080/time/Asia/Tokyo?23478722130554652</code>"
   ]
  },
  {
   "cell_type": "markdown",
   "metadata": {},
   "source": [
    "<div style=\"background-color:#eef;padding:10px;border-radius:3px\">\n",
    "<b>4.5 -</b>\n",
    "Pour le serveur <tt>Q4-5.py</tt> créez et utilisez une méthode nommée <tt>init_vars</tt> qui stocke les paramètres de l'adresse dans les variables d'instance suivantes :\n",
    "- <tt>path_info</tt> - sera la liste des composantes de l'adresse\n",
    "- <tt>query_string</tt> - sera la chaîne de caractères après le '?' si ce dernier existe, sinon la chaîne vide\n",
    "\n",
    "```python\n",
    "  def init_vars(self):\n",
    "    info = self.path.split('?',2)\n",
    "    self.path_info = info[0].split('/')[1:]\n",
    "    self.query_string = info[1] if len(info) > 1 else '' \n",
    "```\n",
    "\n",
    "Vérifiez si ce serveur fonctionne sans erreur avec le <a href=\"http://localhost:8080/service_tester.html\">testeur de service</a> et la case \"Contourner le cache\" cochée. Si tel n'est pas le cas, modifiez-le pour qu'il fonctionne correctement."
   ]
  },
  {
   "cell_type": "code",
   "execution_count": 15,
   "metadata": {
    "collapsed": false
   },
   "outputs": [],
   "source": [
    "%pycat Q4-5.py"
   ]
  },
  {
   "cell_type": "markdown",
   "metadata": {},
   "source": [
    "L'utilisation traditionnelle de la chaîne de requête consiste à passer de l'information sous la forme <tt>clé=valeur</tt>, en séparant ces affectations par des esperluètes (caractère '&') s'il y en a plusieurs."
   ]
  },
  {
   "cell_type": "markdown",
   "metadata": {},
   "source": [
    "<div style=\"background-color:#eef;padding:10px;border-radius:3px\">\n",
    "<b>4.6 -</b>\n",
    "Créez le serveur <tt>Q4-6.py</tt> en modifiant la méthode <tt>init_vars</tt> afin qu'elle initialise un dictionnaire <tt>self.params</tt> à partir des variables passées, puis utilisez cette information pour mettre en forme (via CSS) les dates et heures affichées dans la page générée.\n",
    "\n",
    "Exemple d'URL à utiliser :\n",
    "<tt>http://localhost:8080/time/Asia/Tokyo?color=red&font-weight=bold</tt>\n",
    "\n",
    "Exemple de résultat :\n",
    "<br>\n",
    "<img src=\"Q4-6.png\">"
   ]
  },
  {
   "cell_type": "code",
   "execution_count": 16,
   "metadata": {
    "collapsed": false
   },
   "outputs": [],
   "source": [
    "%pycat Q4-6.py"
   ]
  },
  {
   "cell_type": "markdown",
   "metadata": {},
   "source": [
    "### 5. Utilisation de formulaires (méthode POST)"
   ]
  },
  {
   "cell_type": "markdown",
   "metadata": {},
   "source": [
    "#### a) Soumission de formulaire"
   ]
  },
  {
   "cell_type": "markdown",
   "metadata": {},
   "source": [
    "Lorsqu'un navigateur soumet un formulaire <tt>HTML</tt>, les valeurs des champs du formulaire sont précisément passés au serveur en utilisant la syntaxe <tt>query_string</tt> ('?' et champs séparés par des '&')."
   ]
  },
  {
   "cell_type": "markdown",
   "metadata": {},
   "source": [
    "<div style=\"background-color:#eef;padding:10px;border-radius:3px\">\n",
    "<b>5.1 -</b>\n",
    "Modifiez le serveur précédent pour créer <tt>Q5-1.py</tt>, qui accepte le nom du fuseau horaire indifféremment via <tt>path_info</tt> (comme actuellement) ou <tt>query_string</tt> avec <tt>timezone</tt> comme nom de champ.\n",
    "\n",
    "Exemple d'URL à utiliser :\n",
    "<tt>http://localhost:8080/time?timezone=Asia/Kathmandu&color=red&font-weight=bold</tt>\n",
    "    "
   ]
  },
  {
   "cell_type": "code",
   "execution_count": 17,
   "metadata": {
    "collapsed": false
   },
   "outputs": [],
   "source": [
    "%pycat Q5-1.py"
   ]
  },
  {
   "cell_type": "markdown",
   "metadata": {},
   "source": [
    "<div style=\"background-color:#eef;padding:10px;border-radius:3px\">\n",
    "<b>5.2 -</b>\n",
    "Créez maintenant une page <a href=\"http://localhost:8080/time.html\"><tt>client/time.html</tt></a> avec un formulaire permettant de choisir le fuseau horaire souhaité, et certains éléments de présentation de la réponse (cf. exemple ci-dessous), et utilisez cette page pour vous interfacer correctement au serveur précédent.\n",
    "<br>\n",
    "<img src=\"Q5-2.png\">\n",
    "\n",
    "En vous aidant de la <a href=\"https://docs.python.org/3.0/library/urllib.parse.html\">doc python</a>, simplifiez le serveur précédent s'il ne donne pas satisfaction, pour obtenir <tt>Q5-2.py</tt> qui accepte un nom de fuseau horaire dont le caractère '/' est encodé, et vérifiez qu'il fonctionne :\n",
    "\n",
    "<tt>http://localhost:8080/time?timezone=Asia%2FKathmandu&color=red&font-weight=bold</tt>"
   ]
  },
  {
   "cell_type": "code",
   "execution_count": 18,
   "metadata": {
    "collapsed": false
   },
   "outputs": [],
   "source": [
    "%pycat Q5-2.py"
   ]
  },
  {
   "cell_type": "markdown",
   "metadata": {},
   "source": [
    "#### b) Méthode POST"
   ]
  },
  {
   "cell_type": "markdown",
   "metadata": {},
   "source": [
    "Lorsqu'un formulaire est soumis avec la méthode <tt>HTTP POST</tt>, le navigateur transmet la chaîne de requête non plus via l'URL, mais dans le corps de la requête. Voici comment récupérer et traiter le corps de la requête :"
   ]
  },
  {
   "cell_type": "raw",
   "metadata": {},
   "source": [
    "  # récupération du corps\n",
    "  length = self.headers.get('Content-Length')\n",
    "  ctype = self.headers.get('Content-Type')\n",
    "  if length:\n",
    "    self.body = str(self.rfile.read(int(length)),'utf-8')\n",
    "    if ctype == 'application/x-www-form-urlencoded' : \n",
    "      self.params = parse_qs(self.body)"
   ]
  },
  {
   "cell_type": "markdown",
   "metadata": {},
   "source": [
    "<div style=\"background-color:#eef;padding:10px;border-radius:3px\">\n",
    "<b>5.3 -</b>\n",
    "Modifiez la page qui contient le formulaire (en nommant la nouvelle version <a href=\"http://localhost:8080/post_time.html\"><tt>client/post_time.html</tt></a>) et le serveur (qui devient <tt>Q5-3.py</tt>) pour soumettre et traiter le formulaire via la méthode <tt>POST</tt>. "
   ]
  },
  {
   "cell_type": "code",
   "execution_count": 19,
   "metadata": {
    "collapsed": false
   },
   "outputs": [],
   "source": [
    "%pycat Q5-3.py"
   ]
  },
  {
   "cell_type": "markdown",
   "metadata": {},
   "source": [
    "#### c) serveur générique"
   ]
  },
  {
   "cell_type": "markdown",
   "metadata": {},
   "source": [
    "<div style=\"background-color:#eef;padding:10px;border-radius:3px\">\n",
    "<b>5.4 -</b>\n",
    "Créez un package nommé <tt>server</tt> (i.e. un répertoire éponyme contenant un fichier <tt>&#95;&#95;init&#95;&#95;.py</tt> vide cf. <a href=\"https://docs.python.org/3.4/tutorial/modules.html#packages\">doc python</a>), puis réécrivez le serveur précédent :\n",
    "- en extrayant toutes les fonctionnalités génériques dans une classe que vous nommerez <tt>RequestHandler</tt>,\n",
    "que vous mettrez dans un fichier (module) <tt>generic.py</tt> dans le répertoire (package) <tt>server</tt>,\n",
    "- en traitant les aspects spécifiques (cf. URL <tt>/time</tt>) dans un fichier <tt>Q5-4.py</tt>, depuis lequel vous importerez le module <tt>generic</tt> :\n",
    "\n",
    "<pre>\n",
    "from server import generic\n",
    "\n",
    "class RequestHandler(generic.RequestHandler):\n",
    "    ...\n",
    " \n",
    "</pre>\n",
    "\n",
    "Puis testez le fonctionnement de votre nouveau serveur avec\n",
    "<a href=\"http://localhost:8080/time.html\"><tt>client/time.html</tt></a> et \n",
    "<a href=\"http://localhost:8080/post_time.html\"><tt>client/post_time.html</tt></a>."
   ]
  },
  {
   "cell_type": "code",
   "execution_count": 20,
   "metadata": {
    "collapsed": false
   },
   "outputs": [],
   "source": [
    "%pycat server/generic.py"
   ]
  },
  {
   "cell_type": "code",
   "execution_count": 21,
   "metadata": {
    "collapsed": false
   },
   "outputs": [],
   "source": [
    "%pycat Q5-4.py"
   ]
  },
  {
   "cell_type": "markdown",
   "metadata": {},
   "source": [
    "### 6. Consultation d'une base de données"
   ]
  },
  {
   "cell_type": "markdown",
   "metadata": {},
   "source": [
    "L'objectif est maintenant de réutiliser le serveur générique pour créer une application autour de la base de données du TD1. Si vous travaillez dans le même répertoire que pour le TD1 (ce qui n'est pas conseillé) il n'y a rien de spécial à faire pour cela. Sinon, copiez le fichier <tt>sncf.sqlite</tt> dans le répertoire courant."
   ]
  },
  {
   "cell_type": "markdown",
   "metadata": {},
   "source": [
    "#### a) Génération d'un fragment de document html"
   ]
  },
  {
   "cell_type": "markdown",
   "metadata": {},
   "source": [
    "<div style=\"background-color:#eef;padding:10px;border-radius:3px\">\n",
    "<b>6.1 -</b>\n",
    "Ecrivez un serveur <tt>Q6-1.py</tt> basé sur <tt>generic.RequestHandler</tt> qui renvoie le code source d'une <tt>table html</tt> avec la liste des lignes ferroviaires répertoriées dans la table <tt>SQL</tt> <tt>ponctualite_transilien</tt>, et leur couleur, lorsqu'on l'interroge avec la requête :\n",
    "<tt>GET /lignes</tt>\n",
    "\n",
    "Vous pourrez tester ce serveur avec le <a href=\"http://localhost:8080/service_tester.html\">testeur de service</a> :\n",
    "<br>\n",
    "<img src=\"Q6-1.png\">\n",
    "\n",
    "\n",
    "<!--Affichage d'un tableau, construction de la requête d'après les informations d'un formulaire-->"
   ]
  },
  {
   "cell_type": "code",
   "execution_count": 22,
   "metadata": {
    "collapsed": false
   },
   "outputs": [],
   "source": [
    "%pycat Q6-1.py"
   ]
  },
  {
   "cell_type": "markdown",
   "metadata": {},
   "source": [
    "#### b) Génération d'une image"
   ]
  },
  {
   "cell_type": "markdown",
   "metadata": {},
   "source": [
    "<div style=\"background-color:#eef;padding:10px;border-radius:3px\">\n",
    "<b>6.2 -</b>\n",
    "En réutilisant du code du TD précédent, écrivez un serveur <tt>Q6-2.py</tt> qui,\n",
    "sur réception d'une requête <tt>GET&nbsp;/ponctualite/Transilien</tt> génère une image (cf. <a href=\"http://matplotlib.org/faq/howto_faq.html#generate-images-without-having-a-window-appear\">doc python</a>) nommée <tt>courbe_ponctualite.png</tt> dans le répertoire <tt>client</tt> avec le graphique de ponctualité obtenu en fin de TD, et renvoie un fragment de code <tt>html</tt> (cf. balise <tt>img</tt>) faisant référence à ce graphique.\n",
    "<br>\n",
    "<img src=\"Q6-2.png\" width=\"80%\">"
   ]
  },
  {
   "cell_type": "markdown",
   "metadata": {},
   "source": [
    "<div style=\"background-color:#eef;padding:10px;border-radius:3px\">\n",
    "<b>6.3 -</b> Raffinez éventuellement ce serveur en autorisant des requêtes comme :\n",
    "- <tt>GET /ponctualite/RER</tt>\n",
    "- <tt>GET /ponctualite/RER/A</tt>\n",
    "- <tt>GET /ponctualite/Transilien</tt>\n",
    "- <tt>GET /ponctualite/Transilien/N</tt>\n",
    "\n",
    "<img src=\"Q6-3.png\" width=\"80%\">\n",
    "<p>\n",
    "<b>N.B.</b> Comme le contenu de l'image change d'une requête à l'autre, mais pas son nom, il pourra être nécessaire de rajouter une partie aléatoire à l'adresse de l'image, pour éviter que votre navigateur n'utilise la version dans son cache :\n",
    "<p>\n",
    "<tt style=\"display:block; text-align: center\">&lt;img src=\"courbe_ponctualite.png<span style=\"color:red\">?0.5476476547</span>\"&gt;</tt>\n"
   ]
  },
  {
   "cell_type": "code",
   "execution_count": 23,
   "metadata": {
    "collapsed": false
   },
   "outputs": [],
   "source": [
    "%pycat Q6-2.py"
   ]
  },
  {
   "cell_type": "markdown",
   "metadata": {},
   "source": [
    "#### c) Optimisation - Cache serveur"
   ]
  },
  {
   "cell_type": "markdown",
   "metadata": {},
   "source": [
    "<div style=\"background-color:#eef;padding:10px;border-radius:3px\">\n",
    "<b>6.4 -</b>\n",
    "Le serveur précédent re-génère un graphique à chaque requête. Il serait beaucoup plus intéressant de ne générer chaque image qu'une seule fois.\n",
    "\n",
    "Concevez une nomenclature de noms de fichiers pour éviter de générer un graphique à chaque requête, puis créez <tt>Q6-4.py</tt> qui ne génère le fichier image que s'il n'existe pas déjà."
   ]
  },
  {
   "cell_type": "code",
   "execution_count": 24,
   "metadata": {
    "collapsed": false
   },
   "outputs": [],
   "source": [
    "%pycat Q6-4.py"
   ]
  },
  {
   "cell_type": "markdown",
   "metadata": {},
   "source": [
    "### 7. Autres verbes HTTP"
   ]
  },
  {
   "cell_type": "markdown",
   "metadata": {},
   "source": [
    "<div style=\"background-color:#eef;padding:10px;border-radius:3px\">\n",
    "<b>7.1 -</b>\n",
    "Créer le serveur <tt>Q7-1.py</tt> qui effectue les opérations suivantes :\n",
    "<table>\n",
    "<tr><th>Requête</th><th>Opération</th><th>Résultat</th></tr>\n",
    "<tr><td><tt>GET    /ponctualite/ligne</tt></td><td>Ne fait rien</td><td>Balise <tt>img</tt> ou 404 Not Found</td></tr>\n",
    "<tr><td><tt>POST   /ponctualite/ligne</tt></td><td>Crée l'image si elle n'existe pas</td><td>Balise <tt>img</tt></td></tr>\n",
    "<tr><td><tt>PUT    /ponctualite/ligne</tt></td><td>Crée, voire recrée l'image si elle existe</td><td>Balise <tt>img</tt></td></tr>\n",
    "<tr><td><tt>DELETE /ponctualite/ligne</tt></td><td>Supprime l'image si elle existe</td><td>Réponse sans corps</td></tr>\n",
    "</table>\n",
    "\n",
    "Où <tt>ligne</tt> peut comme précédemment prendre l'une des formes suivantes :\n",
    "- <tt>RER</tt>\n",
    "- <tt>RER/A</tt>\n",
    "- <tt>Transilien</tt>\n",
    "- <tt>Transilien/U</tt>"
   ]
  },
  {
   "cell_type": "code",
   "execution_count": 25,
   "metadata": {
    "collapsed": false
   },
   "outputs": [],
   "source": [
    "%pycat Q7-1.py"
   ]
  }
 ],
 "metadata": {
  "kernelspec": {
   "display_name": "Python 3",
   "language": "python",
   "name": "python3"
  },
  "language_info": {
   "codemirror_mode": {
    "name": "ipython",
    "version": 3
   },
   "file_extension": ".py",
   "mimetype": "text/x-python",
   "name": "python",
   "nbconvert_exporter": "python",
   "pygments_lexer": "ipython3",
   "version": "3.5.1"
  }
 },
 "nbformat": 4,
 "nbformat_minor": 0
}
