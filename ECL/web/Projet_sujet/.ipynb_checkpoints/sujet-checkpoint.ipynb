{
 "cells": [
  {
   "cell_type": "markdown",
   "metadata": {},
   "source": [
    "#  <center>Informatique tc3 (Projet Web) - TD2</center>"
   ]
  },
  {
   "cell_type": "markdown",
   "metadata": {},
   "source": [
    "## <center style=\"color: #66d\">Développement d'une application Web</center>"
   ]
  },
  {
   "cell_type": "markdown",
   "metadata": {},
   "source": [
    "### 1. Préambule"
   ]
  },
  {
   "cell_type": "markdown",
   "metadata": {},
   "source": [
    "#### a) Principe du travail à réaliser"
   ]
  },
  {
   "cell_type": "markdown",
   "metadata": {},
   "source": [
    "Lors des TDs précédents vous avez appris à :\n",
    "- accéder à une base de données SQLite depuis un programme Python,\n",
    "- développer un serveur d'application Web en Python,\n",
    "  - qui génère un fichier image à l'aide de matplotlib, \n",
    "  - mais pas forcément si l'image pour un jeu de paramètres donnés existe déjà,\n",
    "  - et renvoie des fragments de code HTML ou des informations au format JSON concernant cette image,\n",
    "- mettre en place une interface Web\n",
    "  - qui permet à l'utilisateur de définir des paramètres servant pour le calcul de l'image,\n",
    "  - envoie une requête AJAX au serveur avec les paramètres choisis par l'utilisateur,\n",
    "  - récupère les informations renvoyées par le serveur pour affichier l'image.\n",
    "  \n",
    "Vous aurez à réaliser en projet une application web (côté client + serveur) qui aura exactement ce type de comportement."
   ]
  },
  {
   "cell_type": "markdown",
   "metadata": {},
   "source": [
    "#### b) Intérêt de la base de données"
   ]
  },
  {
   "cell_type": "markdown",
   "metadata": {},
   "source": [
    "\n",
    "Contrairement à ce qui a pu se passer lors des TD, la liste des paramètres pour la génération de votre image sera suffisament longue ou leurs valeurs suffisamment complexes pour qu'on ne puisse pas compter uniquement sur la nomenclature des noms de fichiers pour retrouver une image à partir de ses paramètres. C'est là que la base de données entre en jeu.\n",
    "\n",
    "Vous stockerez la liste des images déjà calculées avec leur nom de fichier et les paramètres du calcul dans la base, pour éviter de les regénérer si elles existent déjà."
   ]
  },
  {
   "cell_type": "markdown",
   "metadata": {},
   "source": [
    "#### C) Organisation des groupes"
   ]
  },
  {
   "cell_type": "markdown",
   "metadata": {},
   "source": [
    "Vous travaillerez par groupes de 4 ou 5 personnes, l'objectif étant de créer 5 groupes de projet par groupe de TD."
   ]
  },
  {
   "cell_type": "markdown",
   "metadata": {},
   "source": [
    "La constitution des groupes devra être effectuée et définitive à l'issue de la séance de TD consacrée au choix des sujets."
   ]
  },
  {
   "cell_type": "markdown",
   "metadata": {},
   "source": [
    "#### d) Rappel du fonctionnement du projet."
   ]
  },
  {
   "cell_type": "markdown",
   "metadata": {},
   "source": [
    "A l'issue de ce TD vous aurez 12h (6 séances de 2h) d'autonomie planifiée pour réaliser votre projet,\n",
    "puis la dernière demi-journée vous donnera l'occasion de paufiner votre présentation et de présenter devant vos pairs et le chargé de TD votre application qui devra être fonctionnelle.\n",
    "\n",
    "Comme il vous a été annoncé en cours, vous aurez par ailleurs à remettre l'ensemble du code source de votre application (client, serveur et base de données) __une semaine avant la séance de restitution__ à un groupe de projet concurrent au sein de votre groupe de TD, qui devra en effectuer la recette.\n",
    "\n",
    "La séance de restitution donnera ainsi l'occasion à chaque groupe de présenter la recette qui a été effectuée pour un projet, juste après la démonstration de ce projet par ses auteurs. "
   ]
  },
  {
   "cell_type": "markdown",
   "metadata": {},
   "source": [
    "### 2. Sujets"
   ]
  },
  {
   "cell_type": "markdown",
   "metadata": {},
   "source": [
    "<div style=\"font-weight:bold;text-decoration:underline;color:#66D;\">Les sujets qui vous sont proposés consistent tous à générer des images de fractales.</div>\n",
    "\n",
    "Voici les cinq sujets qui vous sont proposés. Chacun d'eux devra être traité une fois et une seule dans chaque groupe de TD :\n",
    "- Fractales par percolation\n",
    "- Courbes fractales\n",
    "- Systèmes de Lindenmayer\n",
    "- Ensembles de Julia\n",
    "- Exploration de l'ensemble de Mandelbrot\n",
    "\n",
    "Un exemple pour chaque sujet est donné dans la suite, mais vous aurez à approfondir le travail à réaliser par vous-même à l'aide des abondantes ressources disponibles sur internet.\n"
   ]
  },
  {
   "cell_type": "markdown",
   "metadata": {},
   "source": [
    "### 3. Permutations pour la recette"
   ]
  },
  {
   "cell_type": "markdown",
   "metadata": {},
   "source": [
    "<table>\n",
    "<tr><th>Sujet</th><th>Recette effectuée par</th></tr>\n",
    "<tr><td>Fractales par percolation</td><td>Systèmes de Lindenmayer</td></tr>\n",
    "<tr><td>Systèmes de Lindenmayer</td><td>Ensembles de Julia</td></tr>\n",
    "<tr><td>Ensembles de Julia</td><td>Courbes fractales</td></tr>\n",
    "<tr><td>Courbes fractales</td><td>Ensemble de Mandelbrot</td></tr>\n",
    "<tr><td>Ensemble de Mandelbrot</td><td>Fractales par percolation</td></tr>\n",
    "</table>"
   ]
  },
  {
   "cell_type": "markdown",
   "metadata": {},
   "source": [
    "### 4. Détail des sujets"
   ]
  },
  {
   "cell_type": "markdown",
   "metadata": {},
   "source": [
    "#### <div style=\"border-bottom: 1px solid black\">a) Fractales par percolation</div>"
   ]
  },
  {
   "cell_type": "markdown",
   "metadata": {},
   "source": [
    "La génération de fractales par percolation consiste à déposer une graine initiale, puis à \"faire tomber\" des pixels avec une trajectoire aléatoire en feuille morte. Lorsque le pixel touche la graine ou un pixel de la fractale en cours de construction, il se pose et s'arrête."
   ]
  },
  {
   "cell_type": "markdown",
   "metadata": {},
   "source": [
    "##### Exemple: le buisson percolé"
   ]
  },
  {
   "cell_type": "markdown",
   "metadata": {},
   "source": [
    "<img src=\"PercolatedBush.png\" style=\"border:1px solid black;border-radius:7px; box-shadow:5px 5px 5px #020;\">\n",
    "\n",
    "La graine initiale est constituée par le sol (ligne horizontale noire au bas de l'image).\n",
    "                                              \n",
    "Le pixel dont la position horizontale est initialement aléatoire, tombe verticalement depuis le haut de l'image et se fixe dans la position où il se trouve s'il y a un pixel non blanc situé dans la rangée de pixels en-dessous de lui, et dans la même colonne que lui ou dans une colonne immédiatement voisine.\n",
    "\n",
    "La chute du pixel ne s'effectue pas totalement à la verticale, mais il tombe à chaque étape dans la ligne inférieure et dans une colonne aléatoirement située jusqu'à +/- deux colonnes de sa position précédente.\n",
    "\n",
    "La génération s'arrête lorsqu'un pixel est déposé suffisamment près du haut de l'image"
   ]
  },
  {
   "cell_type": "markdown",
   "metadata": {},
   "source": [
    "##### Variantes"
   ]
  },
  {
   "cell_type": "markdown",
   "metadata": {},
   "source": [
    "L'un des paramètres pour ce type de fractale (comme pour tous les autres) est la taille de l'image que l'on veut obtenir.\n",
    "\n",
    "Il est également possible :\n",
    "- de déposer des obstacles sur le trajet des pixels,\n",
    "- de modifier les couleurs dès qu'un pixel atteint une certaine altitude, par exemple marron en bas (racines), vert au milieu (tiges), jaune en haut (fleurs),\n",
    "- de colorer le fond de l'image,\n",
    "- de faire tomber les pixels radialement depuis la périphérie vers le centre pour obtenir une figure en étoile...\n"
   ]
  },
  {
   "cell_type": "markdown",
   "metadata": {},
   "source": [
    "#### <div style=\"border-bottom: 1px solid black\">b) Courbes fractales</div>"
   ]
  },
  {
   "cell_type": "markdown",
   "metadata": {},
   "source": [
    "Les courbes fractales se conçoivent par divisions successives d'un segment inital (ou d'une série de segments initiaux), en répétant à l'infini le même motif avec des sous-segments de plus en plus petits."
   ]
  },
  {
   "cell_type": "markdown",
   "metadata": {},
   "source": [
    "##### Exemple : le flocon de Koch"
   ]
  },
  {
   "cell_type": "markdown",
   "metadata": {},
   "source": [
    "<img src=\"KochSnowFlake.png\" style=\"border:1px solid black;border-radius:7px; box-shadow:5px 5px 5px black;\">\n",
    "&nbsp;\n",
    "\n",
    "Le flocon de Koch est obtenu à partir d'un triangle équilatéral, en remplaçant chacun des segments par 4 segments de longueur 1/3, puis en itérant la procédure _ad libitum_:\n",
    "\n",
    "<table><tr>\n",
    "<td><img src=\"KochSnowFlake_1.png\"></td>\n",
    "<td><img src=\"KochSnowFlake_2.png\"></td>\n",
    "<td><img src=\"KochSnowFlake_3.png\"></td>\n",
    "<td><img src=\"KochSnowFlake_4.png\"></td>\n",
    "</tr></table>"
   ]
  },
  {
   "cell_type": "markdown",
   "metadata": {},
   "source": [
    "##### Variantes"
   ]
  },
  {
   "cell_type": "markdown",
   "metadata": {},
   "source": [
    "Il existe de nombreuses courbes qui peuvent se construire sur ce principe : le Flocon, l'Anti-flocon, la Courbe, l'Île de Koch, les courbes de Peano, de Lévy, du Dragon, le Triangle de Sierpinski. En trouverez-vous d'autres ?"
   ]
  },
  {
   "cell_type": "markdown",
   "metadata": {},
   "source": [
    "#### <div style=\"border-bottom: 1px solid black\">c) Systèmes de Lindenmayer (ou L-Systems)</div>"
   ]
  },
  {
   "cell_type": "markdown",
   "metadata": {},
   "source": [
    "Un système de Lindenmayer (ou L-Système) est constitué d'une liste de symboles, d'un ensemble de règles permettant de transformer ces symboles, et d'un mot de départ (ou axiome). On peut représenter graphiquement un mot constitué de ces symboles, en leur affectant une signification dans le langage de la tortue Logo. "
   ]
  },
  {
   "cell_type": "markdown",
   "metadata": {},
   "source": [
    "##### Exemple : l'arbre de Pythagore"
   ]
  },
  {
   "cell_type": "markdown",
   "metadata": {},
   "source": [
    "<img src=\"PythagorasTree.png\" style=\"border:1px solid black;border-radius:7px; box-shadow:5px 5px 5px black;\">\n",
    "\n",
    "L'arbre de Pythagore est obtenu à l'aide \n",
    "- des symboles [ ] 0 1,\n",
    "- de l'axiome 0,\n",
    "- et des règles \n",
    "  - 1→11\n",
    "  - 0→1[0]0\n",
    "  \n",
    "Les deux symboles [ et ] sont des constantes.\n",
    "\n",
    "L'interprétation des symboles pour tracer l'arbre est la suivante :\n",
    "- 0 → un pas en avant,\n",
    "- 1 → un pas en avant,\n",
    "- [ → enregistrer la position, tourner de 45° à gauche,\n",
    "- ] → aller à la dernière position enregistrée, tourner de 45° à droite."
   ]
  },
  {
   "cell_type": "markdown",
   "metadata": {},
   "source": [
    "##### Variantes "
   ]
  },
  {
   "cell_type": "markdown",
   "metadata": {},
   "source": [
    "De nombreuses structures géométriques  peuvent être construites via un L-System : Arbre de Pythagore, Courbes de Koch, de Hilbert, de Gosper, du Dragon, ou Triangle de Sierpinski. Mais aussi des représentations beaucoujp plus artistiques comme  des graminées, des buissons, des arbres ou des conifères.\n",
    "\n",
    "<table><tr>\n",
    "<td><img src=\"TwiggyTree.png\"></td>\n",
    "<td><img src=\"BushyTree.png\"></td>\n",
    "<td><img src=\"Conifer.png\"></td>\n",
    "</tr></table>"
   ]
  },
  {
   "cell_type": "markdown",
   "metadata": {},
   "source": [
    "#### <div style=\"border-bottom: 1px solid black\">d) Ensembles de Julia</div>"
   ]
  },
  {
   "cell_type": "markdown",
   "metadata": {},
   "source": [
    "Soit une fonction $f(z)$ pour $z$ complexe.\n",
    "On trace <i>(en noir)</i> l'ensemble des points $z_0$\n",
    "pour lesquels les valeurs de la série<br>\n",
    "$z_1 = f(z_0), z_2 = f(z1), ...$\n",
    "ne tendent pas vers l'infini.\n",
    "L'<b>ensemble de Julia</b> <i>(ou Julia Set)</i> est la frontière de cet ensemble.\n",
    "\n",
    "Il a été démontré que les points d'un ensemble de Julia sont soit connectés,\n",
    "et dans ce cas $z_0$ appartient à l'<b>ensemble de Mandelbrot</b>,\n",
    "soit totalement déconnectés, et constituent une <b>poussière de Fatou</b>.\n",
    "\n",
    "Pour représenter un ensemble de Julia connecté, on itère un certain nombre de fois pour chaque point du plan, jusqu'à ce que le résultat diverge _(point coloré)_ ou pas _(point noir)_.\n",
    "\n",
    "La solution la plus naïve pour déterminer la couleur d'un pixel situé dans la zone où la série diverge consiste à représenter le nombre d'itérations nécessaires pour atteindre une certaine valeur. Il existe d'autres algorithmes, basés sur le calcul de la distance entre le point considéré et l'ensemble de Julia, qui donnent des résultats un peu plus esthétiques pour un calcul plus complexe. "
   ]
  },
  {
   "cell_type": "markdown",
   "metadata": {},
   "source": [
    "##### Variantes"
   ]
  },
  {
   "cell_type": "markdown",
   "metadata": {},
   "source": [
    "Il est possible de faire varier de nombreux paramètres. Ceux de la fonction $f$ d'abord, mais aussi la taille de l'image, la zone observée, le facteur de zoom, les couleurs employées...\n",
    "\n",
    "L'exemple ci-dessous montre différentes vues de l'ensemble de Julia pour la fonction quadratique \n",
    "$Q_c(z) = z^2 + 0.360284 + 0.100376i$\n",
    "\n",
    "<table style=\"border:none;\"><tr style=\"border:none\">\n",
    "<td style=\"border:none;padding:0.5em;\"><img src=\"Julia.png\" style=\"border-radius:7px; box-shadow:5px 5px 5px black;width:200px\"></td>\n",
    "<td style=\"border:none;padding:0.5em;\"><img src=\"Julia2.png\" style=\"border-radius:7px; box-shadow:5px 5px 5px black;width:200px\"></td>\n",
    "<td style=\"border:none;padding:0.5em;\"><img src=\"Julia3.png\" style=\"border-radius:7px; box-shadow:5px 5px 5px black;width:200px\"></td>\n",
    "<td style=\"border:none;padding:0.5em;\"><img src=\"Julia4.png\" style=\"border-radius:7px; box-shadow:5px 5px 5px black;width:200px\"></td>\n",
    "</tr></table>\n",
    "&nbsp;"
   ]
  },
  {
   "cell_type": "markdown",
   "metadata": {},
   "source": [
    "#### <div style=\"border-bottom: 1px solid black\">e) Exploration de l'ensemble de Mandelbrot</div>"
   ]
  },
  {
   "cell_type": "markdown",
   "metadata": {},
   "source": [
    "L'ensemble de Mandelbrot, qui n'est plus à présenter, est l'ensemble des points $c$ du plan complexe _(en noir)_, pour lesquels la suite $z_0=0, z_{n+1} = z_n^2 + c$ ne tend pas vers l'infini."
   ]
  },
  {
   "cell_type": "markdown",
   "metadata": {},
   "source": [
    "<img src=\"Mandel.500.png\" style=\"border-radius:7px; box-shadow:5px 5px 5px black;width:300px\">"
   ]
  },
  {
   "cell_type": "markdown",
   "metadata": {},
   "source": [
    "Le calcul des couleurs se fait de lamême manière que pour les ensembles de Julia : en fonction du nombre d'itérations nécessaires pour s'échapper, ou par calcul de la distance à la frontière de l'ensemble."
   ]
  },
  {
   "cell_type": "markdown",
   "metadata": {},
   "source": [
    "##### Variantes"
   ]
  },
  {
   "cell_type": "markdown",
   "metadata": {},
   "source": [
    "On pourra paramétrer la taille de l'image, les coordonnées du centre de la zone observée, le facteur de zoom, les couleurs, l'algorithme pour le calcul des couleurs, le nombre d'itérations..."
   ]
  },
  {
   "cell_type": "markdown",
   "metadata": {},
   "source": [
    "### 5. Techniques de tracé"
   ]
  },
  {
   "cell_type": "markdown",
   "metadata": {},
   "source": [
    "#### a) Graphiques vectoriels"
   ]
  },
  {
   "cell_type": "markdown",
   "metadata": {},
   "source": [
    "Les représentations de courbes fractales et de L-Systèmes sont des tracés à base de __vecteurs__ qui s'obtiennent de la même manière que la courbe suivante : "
   ]
  },
  {
   "cell_type": "code",
   "execution_count": 1,
   "metadata": {
    "collapsed": false
   },
   "outputs": [
    {
     "data": {
      "image/png": "[encoded data removed]",
      "text/plain": [
       "<matplotlib.figure.Figure at 0x498e898>"
      ]
     },
     "metadata": {},
     "output_type": "display_data"
    }
   ],
   "source": [
    "from math import *\n",
    "\n",
    "import numpy as np\n",
    "import matplotlib.pyplot as plt\n",
    "\n",
    "# pour la tracé dans un notebook, inutile sinon\n",
    "%matplotlib inline\n",
    "\n",
    "# fonction utilisé pour l'exemple de tracé\n",
    "def lissajou(t):\n",
    "    a = t/180.0*pi\n",
    "    return (cos(0.5*a),sin(a))\n",
    "\n",
    "# tableau de points, correspondant aux extrémités jointives\n",
    "# des segments à tracer\n",
    "points = [lissajou(t) for t in range(720)]\n",
    "\n",
    "# tracé\n",
    "plt.plot([x for x,_ in points], [y for _,y in points])\n",
    "\n",
    "# visualisation\n",
    "plt.show()"
   ]
  },
  {
   "cell_type": "markdown",
   "metadata": {},
   "source": [
    "##### Suppression des axes :"
   ]
  },
  {
   "cell_type": "code",
   "execution_count": 2,
   "metadata": {
    "collapsed": false
   },
   "outputs": [
    {
     "data": {
      "image/png": "[encoded data removed]",
      "text/plain": [
       "<matplotlib.figure.Figure at 0x7fca898>"
      ]
     },
     "metadata": {},
     "output_type": "display_data"
    }
   ],
   "source": [
    "# noter l'affectation de fig AVANT le tracé\n",
    "fig = plt.figure(frameon=False)\n",
    "\n",
    "# tracé\n",
    "plt.plot([x for x,_ in points], [y for _,y in points])\n",
    "\n",
    "# on enlève les ticks\n",
    "plt.tick_params(which='both', bottom='off', top='off', left='off', right='off')\n",
    "\n",
    "# on enlève le cadre\n",
    "ax = fig.add_subplot(1,1,1)\n",
    "for spine in ax.spines.values():\n",
    "  spine.set_visible(False)\n",
    "\n",
    "# on enlève les labels\n",
    "ax.xaxis.set_ticklabels([])\n",
    "ax.yaxis.set_ticklabels([])\n",
    "\n",
    "plt.show()"
   ]
  },
  {
   "cell_type": "markdown",
   "metadata": {},
   "source": [
    "##### Création d'un fichier image :"
   ]
  },
  {
   "cell_type": "code",
   "execution_count": 3,
   "metadata": {
    "collapsed": false
   },
   "outputs": [
    {
     "data": {
      "image/png": "[encoded data removed]",
      "text/plain": [
       "<matplotlib.figure.Figure at 0x80c8eb8>"
      ]
     },
     "metadata": {},
     "output_type": "display_data"
    }
   ],
   "source": [
    "# noter l'affectation de fig AVANT le tracé\n",
    "fig = plt.figure(frameon=False)\n",
    "\n",
    "# tracé\n",
    "plt.plot([x for x,_ in points], [y for _,y in points])\n",
    "\n",
    "# on enlève les ticks\n",
    "plt.tick_params(which='both', bottom='off', top='off', left='off', right='off')\n",
    "\n",
    "# on enlève le cadre\n",
    "ax = fig.add_subplot(1,1,1)\n",
    "for spine in ax.spines.values():\n",
    "  spine.set_visible(False)\n",
    "\n",
    "# on enlève les labels\n",
    "ax.xaxis.set_ticklabels([])\n",
    "ax.yaxis.set_ticklabels([])\n",
    "\n",
    "# création de l'image\n",
    "fig.savefig('lissajou.png')"
   ]
  },
  {
   "cell_type": "markdown",
   "metadata": {},
   "source": [
    "On vérifie si le fichier a bien été créé :\n",
    "<img src=\"lissajou.png\" style=\"width:150px;display:inline;border:1px solid black;box-shadow:3px 3px 3px black; border-radius:5px;\"><br>&nbsp;"
   ]
  },
  {
   "cell_type": "markdown",
   "metadata": {},
   "source": [
    "#### b) Images tracées pixel par pixel"
   ]
  },
  {
   "cell_type": "markdown",
   "metadata": {},
   "source": [
    "Pour générer une image il suffit de disposer d'une matrice de pixels correspondant à la taille de l'image désirée, chacun des pixels étant représenté par un triplet de valeurs comprises entre 0.0 et 1.0. Les trois valeurs représentent respectivement la composante rouge, verte, et bleue de la couleur désirée.\n",
    "\n",
    "Voici un exemple :"
   ]
  },
  {
   "cell_type": "code",
   "execution_count": 4,
   "metadata": {
    "collapsed": false
   },
   "outputs": [
    {
     "data": {
      "image/png": "[encoded data removed]",
      "text/plain": [
       "<matplotlib.figure.Figure at 0x8112828>"
      ]
     },
     "metadata": {},
     "output_type": "display_data"
    }
   ],
   "source": [
    "import numpy as np\n",
    "import matplotlib.pyplot as plt\n",
    "import matplotlib.image as mpimage\n",
    "from math import *\n",
    "from random import random\n",
    "%matplotlib inline\n",
    "\n",
    "# Quelques fonctions destinées à créer une image de démo\n",
    "def f(x):\n",
    "    '''Un sin(x)/x qui ne se plante pas en zéro, avec des valeurs comprises entre 0.0 et 1.0'''\n",
    "    return (0.3 + sin(x)/x)/1.3 if x else 1.0\n",
    "\n",
    "def g(x,y):\n",
    "    '''sin(r)/r qui s'appuie sur le précédent'''\n",
    "    return f(sqrt(x*x+y*y))\n",
    "\n",
    "def p(x,y,w,h):\n",
    "    '''sin(r)/r centré en (w/2,h/2)'''\n",
    "    xp = 30*(x/w-0.5)\n",
    "    yp = 30*(y/h-0.5)\n",
    "    return g(xp,yp)\n",
    "\n",
    "def c(x,y,w,h):\n",
    "    '''renvoie un triplet de gris correspondant à la valeur p(x,y,w,h)'''\n",
    "    return [p(x,y,w,h), p(x,y,w,h), p(x,y,w,h)]\n",
    "\n",
    "# Création de la matrice de pixels\n",
    "mat = [[c(x,y,200,200) for x in range(200)] for y in range(200)]\n",
    "\n",
    "# Tracé\n",
    "plt.imshow(mat)\n",
    "plt.show()"
   ]
  },
  {
   "cell_type": "markdown",
   "metadata": {},
   "source": [
    "##### Coordonnées d'un pixel"
   ]
  },
  {
   "cell_type": "markdown",
   "metadata": {},
   "source": [
    "On peut s'amuser à allumer un pixel en jaune.<br>\n",
    "Le pixel (x,y) est accessible avec l'expression mat[y][x] avec y compté de haut en bas :"
   ]
  },
  {
   "cell_type": "code",
   "execution_count": 5,
   "metadata": {
    "collapsed": false
   },
   "outputs": [
    {
     "data": {
      "image/png": "[encoded data removed]",
      "text/plain": [
       "<matplotlib.figure.Figure at 0x7a40cf8>"
      ]
     },
     "metadata": {},
     "output_type": "display_data"
    }
   ],
   "source": [
    "mat[75][50] = [1.0, 1.0, 0.0]\n",
    "plt.imshow(mat)\n",
    "plt.show()"
   ]
  },
  {
   "cell_type": "markdown",
   "metadata": {},
   "source": [
    "##### Création du fichier image :"
   ]
  },
  {
   "cell_type": "code",
   "execution_count": 6,
   "metadata": {
    "collapsed": false
   },
   "outputs": [],
   "source": [
    "a = np.array(mat)\n",
    "mpimage.imsave('vague.png', a)"
   ]
  },
  {
   "cell_type": "markdown",
   "metadata": {},
   "source": [
    "On vérifie si le fichier a bien été créé :\n",
    "<img src=\"vague.png\" style=\"width:150px;display:inline;border:1px solid black;box-shadow:3px 3px 3px black; border-radius:5px;\"><br>&nbsp;"
   ]
  },
  {
   "cell_type": "markdown",
   "metadata": {},
   "source": [
    "### 4. A vous de jouer..."
   ]
  },
  {
   "cell_type": "markdown",
   "metadata": {},
   "source": [
    "Pour le reste, la balle est dans votre camp.\n",
    "\n",
    "Bon courage, et amusez-vous bien..."
   ]
  },
  {
   "cell_type": "code",
   "execution_count": 7,
   "metadata": {
    "collapsed": false
   },
   "outputs": [],
   "source": []
  }
 ],
 "metadata": {
  "kernelspec": {
   "display_name": "Python 3",
   "language": "python",
   "name": "python3"
  },
  "language_info": {
   "codemirror_mode": {
    "name": "ipython",
    "version": 3
   },
   "file_extension": ".py",
   "mimetype": "text/x-python",
   "name": "python",
   "nbconvert_exporter": "python",
   "pygments_lexer": "ipython3",
   "version": "3.5.1"
  }
 },
 "nbformat": 4,
 "nbformat_minor": 0
}
